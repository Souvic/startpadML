{
 "cells": [
  {
   "cell_type": "code",
   "execution_count": 1,
   "metadata": {
    "collapsed": true
   },
   "outputs": [],
   "source": [
    "import tensorflow as tf\n",
    "import numpy as np"
   ]
  },
  {
   "cell_type": "code",
   "execution_count": 2,
   "metadata": {},
   "outputs": [],
   "source": [
    "x = tf.placeholder(tf.float32, [None, 2])\n",
    "W = tf.Variable(tf.zeros([2, 5]))\n",
    "b = tf.Variable(tf.zeros([5]))\n",
    "y1 = tf.nn.sigmoid(tf.matmul(x, W) + b)\n",
    "W1 = tf.Variable(tf.zeros([5, 2]))\n",
    "b2 = tf.Variable(tf.zeros([2]))\n",
    "y2 = tf.nn.sigmoid(tf.matmul(y1, W1) + b2)\n",
    "y_ = tf.placeholder(tf.float32, [None, 2])\n",
    "binary_entropylogloss = tf.reduce_mean(-tf.reduce_sum(y_ * tf.log(y2)+(1-y_)*tf.log(1-y2), reduction_indices=[1]))\n",
    "train_steplogloss = tf.train.GradientDescentOptimizer(0.5).minimize(binary_entropylogloss)\n",
    "\n",
    "squareloss = tf.reduce_mean(tf.reduce_sum(tf.square(y_ - y2), reduction_indices=[1]))\n",
    "train_stepsquareloss = tf.train.GradientDescentOptimizer(0.5).minimize(squareloss)"
   ]
  },
  {
   "cell_type": "code",
   "execution_count": 3,
   "metadata": {},
   "outputs": [],
   "source": [
    "ins=np.random.randint(0,2,(4000,2))\n",
    "outs=np.array([[g[0]*g[1],(g[0]+g[1]>0)*1] for g in ins])"
   ]
  },
  {
   "cell_type": "code",
   "execution_count": 4,
   "metadata": {},
   "outputs": [],
   "source": [
    "sess = tf.InteractiveSession()\n",
    "tf.global_variables_initializer().run()\n",
    "for ii in range(32000):\n",
    "    ii=ii%4000\n",
    "    batch_xs = ins[range((ii),(ii+1))]\n",
    "    batch_ys = outs[range((ii),(ii+1))]\n",
    "    sess.run(train_stepsquareloss, feed_dict={x: batch_xs, y_: batch_ys})"
   ]
  },
  {
   "cell_type": "code",
   "execution_count": 5,
   "metadata": {},
   "outputs": [
    {
     "name": "stdout",
     "output_type": "stream",
     "text": [
      "0.000119446490956\n"
     ]
    }
   ],
   "source": [
    "\n",
    "error = tf.reduce_mean(tf.cast(tf.square(y_-y2), tf.float64))\n",
    "print(sess.run(error, feed_dict={x: ins, y_: outs}))"
   ]
  },
  {
   "cell_type": "code",
   "execution_count": 6,
   "metadata": {},
   "outputs": [],
   "source": [
    "sess = tf.InteractiveSession()\n",
    "tf.global_variables_initializer().run()\n",
    "for ii in range(32000):\n",
    "    ii=ii%4000\n",
    "    batch_xs = ins[range((ii),(ii+1))]\n",
    "    batch_ys = outs[range((ii),(ii+1))]\n",
    "    sess.run(train_steplogloss, feed_dict={x: batch_xs, y_: batch_ys})"
   ]
  },
  {
   "cell_type": "code",
   "execution_count": 8,
   "metadata": {},
   "outputs": [
    {
     "name": "stdout",
     "output_type": "stream",
     "text": [
      "2.76269e-07\n"
     ]
    }
   ],
   "source": [
    "\n",
    "error = tf.reduce_mean(tf.cast(tf.square(y_-y2), tf.float32))\n",
    "print(sess.run(error, feed_dict={x: ins, y_: outs}))"
   ]
  },
  {
   "cell_type": "code",
   "execution_count": null,
   "metadata": {
    "collapsed": true
   },
   "outputs": [],
   "source": []
  },
  {
   "cell_type": "code",
   "execution_count": null,
   "metadata": {
    "collapsed": true
   },
   "outputs": [],
   "source": []
  }
 ],
 "metadata": {
  "kernelspec": {
   "display_name": "Python 3",
   "language": "python",
   "name": "python3"
  },
  "language_info": {
   "codemirror_mode": {
    "name": "ipython",
    "version": 3
   },
   "file_extension": ".py",
   "mimetype": "text/x-python",
   "name": "python",
   "nbconvert_exporter": "python",
   "pygments_lexer": "ipython3",
   "version": "3.6.0"
  }
 },
 "nbformat": 4,
 "nbformat_minor": 2
}
